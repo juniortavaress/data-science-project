{
 "cells": [
  {
   "cell_type": "markdown",
   "id": "f0312463",
   "metadata": {},
   "source": [
    "# Importing libraries"
   ]
  },
  {
   "cell_type": "code",
   "execution_count": 1,
   "id": "25361afd",
   "metadata": {},
   "outputs": [],
   "source": [
    "# Importing libraries\n",
    "import pandas as pd\n",
    "import numpy as np\n",
    "import mysql.connector\n",
    "\n",
    "from sklearn.model_selection import train_test_split\n",
    "from sklearn.linear_model import LinearRegression\n",
    "from sklearn.metrics import mean_squared_error, r2_score\n",
    "from sklearn.tree import DecisionTreeRegressor"
   ]
  },
  {
   "cell_type": "markdown",
   "id": "eab06835",
   "metadata": {},
   "source": [
    "# Creating connection to the database SQL"
   ]
  },
  {
   "cell_type": "code",
   "execution_count": 2,
   "id": "0f524af8",
   "metadata": {},
   "outputs": [],
   "source": [
    "# Creating connection\n",
    "connection = mysql.connector.connect(\n",
    "    host='localhost',\n",
    "    user='root',\n",
    "    password='SenhaMySQL2024',\n",
    "    database='dataproject')\n",
    "\n",
    "cursor = connection.cursor()"
   ]
  },
  {
   "cell_type": "code",
   "execution_count": 3,
   "id": "817962b2",
   "metadata": {},
   "outputs": [
    {
     "data": {
      "text/html": [
       "<div>\n",
       "<style scoped>\n",
       "    .dataframe tbody tr th:only-of-type {\n",
       "        vertical-align: middle;\n",
       "    }\n",
       "\n",
       "    .dataframe tbody tr th {\n",
       "        vertical-align: top;\n",
       "    }\n",
       "\n",
       "    .dataframe thead th {\n",
       "        text-align: right;\n",
       "    }\n",
       "</style>\n",
       "<table border=\"1\" class=\"dataframe\">\n",
       "  <thead>\n",
       "    <tr style=\"text-align: right;\">\n",
       "      <th></th>\n",
       "      <th>id</th>\n",
       "      <th>Date</th>\n",
       "      <th>Client ID</th>\n",
       "      <th>Phone Number</th>\n",
       "      <th>Category</th>\n",
       "      <th>Pizza Name</th>\n",
       "      <th>Size</th>\n",
       "      <th>Unit Price</th>\n",
       "      <th>Quantity</th>\n",
       "      <th>Total Price</th>\n",
       "      <th>Ingredients</th>\n",
       "      <th>Day</th>\n",
       "    </tr>\n",
       "  </thead>\n",
       "  <tbody>\n",
       "    <tr>\n",
       "      <th>0</th>\n",
       "      <td>1</td>\n",
       "      <td>2015-01-01</td>\n",
       "      <td>601</td>\n",
       "      <td>55048920805021</td>\n",
       "      <td>Chicken</td>\n",
       "      <td>The Chicken Pesto Pizza</td>\n",
       "      <td>M</td>\n",
       "      <td>16.75</td>\n",
       "      <td>5.0</td>\n",
       "      <td>83.75</td>\n",
       "      <td>Chicken, Tomatoes, Red Peppers, Spinach, Garli...</td>\n",
       "      <td>Thursday</td>\n",
       "    </tr>\n",
       "    <tr>\n",
       "      <th>1</th>\n",
       "      <td>2</td>\n",
       "      <td>2015-01-01</td>\n",
       "      <td>1060</td>\n",
       "      <td>55048965368982</td>\n",
       "      <td>Classic</td>\n",
       "      <td>The Greek Pizza</td>\n",
       "      <td>S</td>\n",
       "      <td>12.00</td>\n",
       "      <td>5.0</td>\n",
       "      <td>60.00</td>\n",
       "      <td>Kalamata Olives, Feta Cheese, Tomatoes, Garlic...</td>\n",
       "      <td>Thursday</td>\n",
       "    </tr>\n",
       "    <tr>\n",
       "      <th>2</th>\n",
       "      <td>3</td>\n",
       "      <td>2015-01-01</td>\n",
       "      <td>470</td>\n",
       "      <td>55048979620977</td>\n",
       "      <td>Classic</td>\n",
       "      <td>The Hawaiian Pizza</td>\n",
       "      <td>M</td>\n",
       "      <td>13.25</td>\n",
       "      <td>5.0</td>\n",
       "      <td>66.25</td>\n",
       "      <td>Sliced Ham, Pineapple, Mozzarella Cheese</td>\n",
       "      <td>Thursday</td>\n",
       "    </tr>\n",
       "    <tr>\n",
       "      <th>3</th>\n",
       "      <td>4</td>\n",
       "      <td>2015-01-01</td>\n",
       "      <td>1862</td>\n",
       "      <td>55048996697585</td>\n",
       "      <td>Veggie</td>\n",
       "      <td>The Green Garden Pizza</td>\n",
       "      <td>S</td>\n",
       "      <td>12.00</td>\n",
       "      <td>5.0</td>\n",
       "      <td>60.00</td>\n",
       "      <td>Spinach, Mushrooms, Tomatoes, Green Olives, Fe...</td>\n",
       "      <td>Thursday</td>\n",
       "    </tr>\n",
       "    <tr>\n",
       "      <th>4</th>\n",
       "      <td>5</td>\n",
       "      <td>2015-01-01</td>\n",
       "      <td>804</td>\n",
       "      <td>55048947870966</td>\n",
       "      <td>Supreme</td>\n",
       "      <td>The Prosciutto and Arugula Pizza</td>\n",
       "      <td>L</td>\n",
       "      <td>20.75</td>\n",
       "      <td>5.0</td>\n",
       "      <td>103.75</td>\n",
       "      <td>Prosciutto di San Daniele, Arugula, Mozzarella...</td>\n",
       "      <td>Thursday</td>\n",
       "    </tr>\n",
       "    <tr>\n",
       "      <th>...</th>\n",
       "      <td>...</td>\n",
       "      <td>...</td>\n",
       "      <td>...</td>\n",
       "      <td>...</td>\n",
       "      <td>...</td>\n",
       "      <td>...</td>\n",
       "      <td>...</td>\n",
       "      <td>...</td>\n",
       "      <td>...</td>\n",
       "      <td>...</td>\n",
       "      <td>...</td>\n",
       "      <td>...</td>\n",
       "    </tr>\n",
       "    <tr>\n",
       "      <th>48615</th>\n",
       "      <td>48616</td>\n",
       "      <td>2015-12-24</td>\n",
       "      <td>1743</td>\n",
       "      <td>55048913026955</td>\n",
       "      <td>Veggie</td>\n",
       "      <td>The Four Cheese Pizza</td>\n",
       "      <td>L</td>\n",
       "      <td>17.95</td>\n",
       "      <td>5.0</td>\n",
       "      <td>89.75</td>\n",
       "      <td>Ricotta Cheese, Gorgonzola Piccante Cheese, Mo...</td>\n",
       "      <td>Thursday</td>\n",
       "    </tr>\n",
       "    <tr>\n",
       "      <th>48616</th>\n",
       "      <td>48617</td>\n",
       "      <td>2015-12-24</td>\n",
       "      <td>524</td>\n",
       "      <td>55048959004703</td>\n",
       "      <td>Veggie</td>\n",
       "      <td>The Vegetables + Vegetables Pizza</td>\n",
       "      <td>M</td>\n",
       "      <td>16.00</td>\n",
       "      <td>5.0</td>\n",
       "      <td>80.00</td>\n",
       "      <td>Mushrooms, Tomatoes, Red Peppers, Green Pepper...</td>\n",
       "      <td>Thursday</td>\n",
       "    </tr>\n",
       "    <tr>\n",
       "      <th>48617</th>\n",
       "      <td>48618</td>\n",
       "      <td>2015-12-24</td>\n",
       "      <td>273</td>\n",
       "      <td>55048946259879</td>\n",
       "      <td>Veggie</td>\n",
       "      <td>The Mexicana Pizza</td>\n",
       "      <td>L</td>\n",
       "      <td>20.25</td>\n",
       "      <td>5.0</td>\n",
       "      <td>101.25</td>\n",
       "      <td>Tomatoes, Red Peppers, Jalapeno Peppers, Red O...</td>\n",
       "      <td>Thursday</td>\n",
       "    </tr>\n",
       "    <tr>\n",
       "      <th>48618</th>\n",
       "      <td>48619</td>\n",
       "      <td>2015-12-24</td>\n",
       "      <td>981</td>\n",
       "      <td>55048961407928</td>\n",
       "      <td>Supreme</td>\n",
       "      <td>The Sicilian Pizza</td>\n",
       "      <td>M</td>\n",
       "      <td>16.25</td>\n",
       "      <td>5.0</td>\n",
       "      <td>81.25</td>\n",
       "      <td>Coarse Sicilian Salami, Tomatoes, Green Olives...</td>\n",
       "      <td>Thursday</td>\n",
       "    </tr>\n",
       "    <tr>\n",
       "      <th>48619</th>\n",
       "      <td>48620</td>\n",
       "      <td>2015-12-24</td>\n",
       "      <td>1189</td>\n",
       "      <td>55048931275832</td>\n",
       "      <td>Veggie</td>\n",
       "      <td>The Mediterranean Pizza</td>\n",
       "      <td>L</td>\n",
       "      <td>20.25</td>\n",
       "      <td>5.0</td>\n",
       "      <td>101.25</td>\n",
       "      <td>Spinach, Artichokes, Kalamata Olives, Sun-drie...</td>\n",
       "      <td>Thursday</td>\n",
       "    </tr>\n",
       "  </tbody>\n",
       "</table>\n",
       "<p>48620 rows × 12 columns</p>\n",
       "</div>"
      ],
      "text/plain": [
       "          id       Date  Client ID    Phone Number Category  \\\n",
       "0          1 2015-01-01        601  55048920805021  Chicken   \n",
       "1          2 2015-01-01       1060  55048965368982  Classic   \n",
       "2          3 2015-01-01        470  55048979620977  Classic   \n",
       "3          4 2015-01-01       1862  55048996697585   Veggie   \n",
       "4          5 2015-01-01        804  55048947870966  Supreme   \n",
       "...      ...        ...        ...             ...      ...   \n",
       "48615  48616 2015-12-24       1743  55048913026955   Veggie   \n",
       "48616  48617 2015-12-24        524  55048959004703   Veggie   \n",
       "48617  48618 2015-12-24        273  55048946259879   Veggie   \n",
       "48618  48619 2015-12-24        981  55048961407928  Supreme   \n",
       "48619  48620 2015-12-24       1189  55048931275832   Veggie   \n",
       "\n",
       "                              Pizza Name Size  Unit Price  Quantity  \\\n",
       "0                The Chicken Pesto Pizza    M       16.75       5.0   \n",
       "1                        The Greek Pizza    S       12.00       5.0   \n",
       "2                     The Hawaiian Pizza    M       13.25       5.0   \n",
       "3                 The Green Garden Pizza    S       12.00       5.0   \n",
       "4       The Prosciutto and Arugula Pizza    L       20.75       5.0   \n",
       "...                                  ...  ...         ...       ...   \n",
       "48615              The Four Cheese Pizza    L       17.95       5.0   \n",
       "48616  The Vegetables + Vegetables Pizza    M       16.00       5.0   \n",
       "48617                 The Mexicana Pizza    L       20.25       5.0   \n",
       "48618                 The Sicilian Pizza    M       16.25       5.0   \n",
       "48619            The Mediterranean Pizza    L       20.25       5.0   \n",
       "\n",
       "       Total Price                                        Ingredients  \\\n",
       "0            83.75  Chicken, Tomatoes, Red Peppers, Spinach, Garli...   \n",
       "1            60.00  Kalamata Olives, Feta Cheese, Tomatoes, Garlic...   \n",
       "2            66.25           Sliced Ham, Pineapple, Mozzarella Cheese   \n",
       "3            60.00  Spinach, Mushrooms, Tomatoes, Green Olives, Fe...   \n",
       "4           103.75  Prosciutto di San Daniele, Arugula, Mozzarella...   \n",
       "...            ...                                                ...   \n",
       "48615        89.75  Ricotta Cheese, Gorgonzola Piccante Cheese, Mo...   \n",
       "48616        80.00  Mushrooms, Tomatoes, Red Peppers, Green Pepper...   \n",
       "48617       101.25  Tomatoes, Red Peppers, Jalapeno Peppers, Red O...   \n",
       "48618        81.25  Coarse Sicilian Salami, Tomatoes, Green Olives...   \n",
       "48619       101.25  Spinach, Artichokes, Kalamata Olives, Sun-drie...   \n",
       "\n",
       "            Day  \n",
       "0      Thursday  \n",
       "1      Thursday  \n",
       "2      Thursday  \n",
       "3      Thursday  \n",
       "4      Thursday  \n",
       "...         ...  \n",
       "48615  Thursday  \n",
       "48616  Thursday  \n",
       "48617  Thursday  \n",
       "48618  Thursday  \n",
       "48619  Thursday  \n",
       "\n",
       "[48620 rows x 12 columns]"
      ]
     },
     "metadata": {},
     "output_type": "display_data"
    }
   ],
   "source": [
    "# Querying the datas\n",
    "query = 'SELECT * FROM pizza_sales_data;'\n",
    "\n",
    "cursor.execute(query)\n",
    "result = cursor.fetchall()  \n",
    "\n",
    "# columns = [i[0] for i in cursor.description], get the name of the columns\n",
    "df = pd.DataFrame(result, columns = [i[0] for i in cursor.description])\n",
    "df['Date'] = pd.to_datetime(df['Date'])\n",
    "df.rename(columns={'Day of the Week': 'Day'}, inplace=True)\n",
    "display(df)"
   ]
  },
  {
   "cell_type": "code",
   "execution_count": 4,
   "id": "113d700b",
   "metadata": {},
   "outputs": [],
   "source": [
    "# Closing connection\n",
    "cursor.close()\n",
    "connection.close()"
   ]
  },
  {
   "cell_type": "markdown",
   "id": "57c0cc7f",
   "metadata": {},
   "source": [
    "# Importing DataFrame and organizing the data"
   ]
  },
  {
   "cell_type": "code",
   "execution_count": 5,
   "id": "0078688c",
   "metadata": {},
   "outputs": [
    {
     "data": {
      "text/plain": [
       "0        Thursday\n",
       "1        Thursday\n",
       "2        Thursday\n",
       "3        Thursday\n",
       "4        Thursday\n",
       "           ...   \n",
       "48615    Thursday\n",
       "48616    Thursday\n",
       "48617    Thursday\n",
       "48618    Thursday\n",
       "48619    Thursday\n",
       "Name: Day, Length: 48620, dtype: object"
      ]
     },
     "metadata": {},
     "output_type": "display_data"
    },
    {
     "data": {
      "text/plain": [
       "0        4\n",
       "1        4\n",
       "2        4\n",
       "3        4\n",
       "4        4\n",
       "        ..\n",
       "48615    4\n",
       "48616    4\n",
       "48617    4\n",
       "48618    4\n",
       "48619    4\n",
       "Name: Day, Length: 48620, dtype: int64"
      ]
     },
     "metadata": {},
     "output_type": "display_data"
    }
   ],
   "source": [
    "display(df['Day'])\n",
    "\n",
    "# Transforming sizes into numerical referener for correlation analysis\n",
    "mapeamento = {'Monday': 1, 'Tuesday': 2, 'Wednesday': 3, 'Thursday': 4, 'Friday': 5, 'Saturday': 6, 'Sunday': 7}\n",
    "df['Day'] = df['Day'].map(mapeamento)\n",
    "display(df['Day'])"
   ]
  },
  {
   "cell_type": "markdown",
   "id": "40263366",
   "metadata": {},
   "source": [
    "# Sourche for correlation with a color graph"
   ]
  },
  {
   "cell_type": "code",
   "execution_count": 6,
   "id": "d6365774",
   "metadata": {},
   "outputs": [
    {
     "data": {
      "image/png": "[encoded data removed]",
      "text/plain": [
       "<Figure size 936x576 with 2 Axes>"
      ]
     },
     "metadata": {
      "needs_background": "light"
     },
     "output_type": "display_data"
    }
   ],
   "source": [
    "# Mostrando a correlação entre as variáveis\n",
    "plt.figure(figsize=(13,8))\n",
    "sns.heatmap(df.corr(),annot=True,cmap=\"YlGnBu\")\n",
    "plt.show()"
   ]
  },
  {
   "cell_type": "markdown",
   "id": "025ae3bc",
   "metadata": {},
   "source": [
    "."
   ]
  },
  {
   "cell_type": "markdown",
   "id": "78501524",
   "metadata": {},
   "source": [
    "# Preparing the data"
   ]
  },
  {
   "cell_type": "code",
   "execution_count": 7,
   "id": "d14bd4c6",
   "metadata": {},
   "outputs": [
    {
     "data": {
      "text/html": [
       "<div>\n",
       "<style scoped>\n",
       "    .dataframe tbody tr th:only-of-type {\n",
       "        vertical-align: middle;\n",
       "    }\n",
       "\n",
       "    .dataframe tbody tr th {\n",
       "        vertical-align: top;\n",
       "    }\n",
       "\n",
       "    .dataframe thead th {\n",
       "        text-align: right;\n",
       "    }\n",
       "</style>\n",
       "<table border=\"1\" class=\"dataframe\">\n",
       "  <thead>\n",
       "    <tr style=\"text-align: right;\">\n",
       "      <th></th>\n",
       "      <th>Date</th>\n",
       "      <th>Day</th>\n",
       "      <th>Quantity</th>\n",
       "    </tr>\n",
       "  </thead>\n",
       "  <tbody>\n",
       "    <tr>\n",
       "      <th>353</th>\n",
       "      <td>2015-12-27</td>\n",
       "      <td>7</td>\n",
       "      <td>712.0</td>\n",
       "    </tr>\n",
       "    <tr>\n",
       "      <th>354</th>\n",
       "      <td>2015-12-28</td>\n",
       "      <td>1</td>\n",
       "      <td>204.0</td>\n",
       "    </tr>\n",
       "    <tr>\n",
       "      <th>355</th>\n",
       "      <td>2015-12-29</td>\n",
       "      <td>2</td>\n",
       "      <td>240.0</td>\n",
       "    </tr>\n",
       "    <tr>\n",
       "      <th>356</th>\n",
       "      <td>2015-12-30</td>\n",
       "      <td>3</td>\n",
       "      <td>410.0</td>\n",
       "    </tr>\n",
       "    <tr>\n",
       "      <th>357</th>\n",
       "      <td>2015-12-31</td>\n",
       "      <td>4</td>\n",
       "      <td>890.0</td>\n",
       "    </tr>\n",
       "  </tbody>\n",
       "</table>\n",
       "</div>"
      ],
      "text/plain": [
       "           Date  Day  Quantity\n",
       "353  2015-12-27    7     712.0\n",
       "354  2015-12-28    1     204.0\n",
       "355  2015-12-29    2     240.0\n",
       "356  2015-12-30    3     410.0\n",
       "357  2015-12-31    4     890.0"
      ]
     },
     "execution_count": 7,
     "metadata": {},
     "output_type": "execute_result"
    }
   ],
   "source": [
    "# Grouping Sales by Day\n",
    "data1 = df.groupby([df['Date'].dt.to_period(\"D\").astype(str), 'Day'])['Quantity'].sum().reset_index()\n",
    "data1.tail()"
   ]
  },
  {
   "cell_type": "code",
   "execution_count": 8,
   "id": "712c383f",
   "metadata": {},
   "outputs": [
    {
     "data": {
      "text/html": [
       "<div>\n",
       "<style scoped>\n",
       "    .dataframe tbody tr th:only-of-type {\n",
       "        vertical-align: middle;\n",
       "    }\n",
       "\n",
       "    .dataframe tbody tr th {\n",
       "        vertical-align: top;\n",
       "    }\n",
       "\n",
       "    .dataframe thead th {\n",
       "        text-align: right;\n",
       "    }\n",
       "</style>\n",
       "<table border=\"1\" class=\"dataframe\">\n",
       "  <thead>\n",
       "    <tr style=\"text-align: right;\">\n",
       "      <th></th>\n",
       "      <th>Day</th>\n",
       "      <th>Quantity</th>\n",
       "    </tr>\n",
       "  </thead>\n",
       "  <tbody>\n",
       "    <tr>\n",
       "      <th>Day</th>\n",
       "      <td>1.000000</td>\n",
       "      <td>0.771153</td>\n",
       "    </tr>\n",
       "    <tr>\n",
       "      <th>Quantity</th>\n",
       "      <td>0.771153</td>\n",
       "      <td>1.000000</td>\n",
       "    </tr>\n",
       "  </tbody>\n",
       "</table>\n",
       "</div>"
      ],
      "text/plain": [
       "               Day  Quantity\n",
       "Day       1.000000  0.771153\n",
       "Quantity  0.771153  1.000000"
      ]
     },
     "execution_count": 8,
     "metadata": {},
     "output_type": "execute_result"
    }
   ],
   "source": [
    "# Converting the date column to datetime\n",
    "data1['Date'] = pd.to_datetime(data1['Date'])\n",
    "data1.corr()"
   ]
  },
  {
   "cell_type": "code",
   "execution_count": 9,
   "id": "c620e9d3",
   "metadata": {},
   "outputs": [
    {
     "name": "stdout",
     "output_type": "stream",
     "text": [
      "<class 'pandas.core.frame.DataFrame'>\n",
      "RangeIndex: 358 entries, 0 to 357\n",
      "Data columns (total 3 columns):\n",
      " #   Column    Non-Null Count  Dtype         \n",
      "---  ------    --------------  -----         \n",
      " 0   Date      358 non-null    datetime64[ns]\n",
      " 1   Day       358 non-null    int64         \n",
      " 2   Quantity  358 non-null    float64       \n",
      "dtypes: datetime64[ns](1), float64(1), int64(1)\n",
      "memory usage: 8.5 KB\n"
     ]
    }
   ],
   "source": [
    "data1.info()"
   ]
  },
  {
   "cell_type": "code",
   "execution_count": 10,
   "id": "2b8f4293",
   "metadata": {},
   "outputs": [],
   "source": [
    "# Selects the X input variable\n",
    "X = np.array(data1[['Day']])\n",
    "type(X)\n",
    "\n",
    "# Selects the target variable\n",
    "y = data1['Quantity']"
   ]
  },
  {
   "cell_type": "code",
   "execution_count": 11,
   "id": "48a85d0e",
   "metadata": {},
   "outputs": [],
   "source": [
    "# Divide datas\n",
    "X_treino, X_teste, y_treino, y_teste = train_test_split(X, y, test_size = 0.2, random_state = 42)"
   ]
  },
  {
   "cell_type": "markdown",
   "id": "feb3e003",
   "metadata": {},
   "source": [
    "# Create Model with LinearRegression"
   ]
  },
  {
   "cell_type": "code",
   "execution_count": 12,
   "id": "1df2d612",
   "metadata": {},
   "outputs": [],
   "source": [
    "# Instantiating\n",
    "modelo_regressao = LinearRegression()\n",
    "\n",
    "# Fitting the model\n",
    "modelo_regressao.fit(X_treino,y_treino)\n",
    "\n",
    "# Using the model to predict test data\n",
    "y_regressao = modelo_regressao.predict(X_teste)"
   ]
  },
  {
   "cell_type": "code",
   "execution_count": 13,
   "id": "3c7297cf",
   "metadata": {},
   "outputs": [
    {
     "data": {
      "image/png": "[encoded data removed]",
      "text/plain": [
       "<Figure size 432x288 with 1 Axes>"
      ]
     },
     "metadata": {
      "needs_background": "light"
     },
     "output_type": "display_data"
    }
   ],
   "source": [
    "X_teste_df = pd.DataFrame(X_teste, columns=['Day'])  # Converte X_teste de volta para DataFrame\n",
    "\n",
    "# Visualizing the predictions\n",
    "plt.scatter(X_teste_df['Day'], y_teste, color='black', label='Real')\n",
    "plt.scatter(X_teste_df['Day'], y_regressao, color='blue', label='Predicted')\n",
    "plt.xlabel('Date')\n",
    "plt.ylabel('Total Price')\n",
    "plt.legend()\n",
    "plt.show()"
   ]
  },
  {
   "cell_type": "code",
   "execution_count": 14,
   "id": "470bc71c",
   "metadata": {},
   "outputs": [
    {
     "name": "stdout",
     "output_type": "stream",
     "text": [
      "Mean Squared Error: 77579.19658469326\n",
      "R²: 0.5621579061575688\n"
     ]
    }
   ],
   "source": [
    "# Evaluating the model\n",
    "# Mean squared error\n",
    "mean_squared = mean_squared_error(y_teste, y_regressao)\n",
    "print(f'Mean Squared Error: {mean_squared}')\n",
    "\n",
    "# Calculating R²\n",
    "r2 = r2_score(y_teste, y_regressao)\n",
    "print(f'R²: {r2}')"
   ]
  },
  {
   "cell_type": "markdown",
   "id": "e7d6e63a",
   "metadata": {},
   "source": [
    "# Create Model with DecisionTreeRegressor"
   ]
  },
  {
   "cell_type": "code",
   "execution_count": 15,
   "id": "9dd6af27",
   "metadata": {},
   "outputs": [
    {
     "name": "stdout",
     "output_type": "stream",
     "text": [
      "16290.275093749215\n",
      "0.908060814363684\n"
     ]
    }
   ],
   "source": [
    "# Importing necessary libraries\n",
    "from sklearn.tree import DecisionTreeRegressor\n",
    "from sklearn.metrics import mean_squared_error, r2_score\n",
    "\n",
    "# Instantiating the Decision Tree model\n",
    "decision_tree_model = DecisionTreeRegressor()\n",
    "\n",
    "# Fitting the model\n",
    "decision_tree_model.fit(X_treino, y_treino)\n",
    "\n",
    "# Using the model to predict test data\n",
    "y_decision_tree = decision_tree_model.predict(X_teste)\n",
    "\n",
    "## Evaluating the errors\n",
    "# Mean squared error\n",
    "error_squared_decision_tree = mean_squared_error(y_teste, y_decision_tree)\n",
    "print(error_squared_decision_tree)\n",
    "\n",
    "# R-squared\n",
    "r2_decision_tree = r2_score(y_teste, y_decision_tree)\n",
    "print(r2_decision_tree)\n"
   ]
  },
  {
   "cell_type": "markdown",
   "id": "d649a547",
   "metadata": {},
   "source": [
    "# Compare"
   ]
  },
  {
   "cell_type": "code",
   "execution_count": 16,
   "id": "58a0c64f",
   "metadata": {},
   "outputs": [
    {
     "name": "stdout",
     "output_type": "stream",
     "text": [
      "Linear Regression\n",
      "Mean Squared Error: 77579.2\n",
      "R-squared: 0.5622\n",
      "-----------------------------------------\n",
      "Decision Tree\n",
      "Mean Squared Error: 16290.28\n",
      "R-squared: 0.9081\n"
     ]
    }
   ],
   "source": [
    "print('Linear Regression')\n",
    "print('Mean Squared Error: ' + str(round(mean_squared, 2)))\n",
    "print('R-squared: ' + str(round(r2, 4)))\n",
    "print('-----------------------------------------')\n",
    "print('Decision Tree')\n",
    "print('Mean Squared Error: ' + str(round(error_squared_decision_tree, 2)))\n",
    "print('R-squared: ' + str(round(r2_decision_tree, 4)))"
   ]
  },
  {
   "cell_type": "markdown",
   "id": "3e6cb570",
   "metadata": {},
   "source": [
    "# Using the Models"
   ]
  },
  {
   "cell_type": "code",
   "execution_count": 17,
   "id": "94f80706",
   "metadata": {},
   "outputs": [],
   "source": [
    "# Define datas\n",
    "# {'Monday': 1, 'Tuesday': 2, 'Wednesday': 3, 'Thursday': 4, 'Friday': 5, 'Saturday': 6, 'Sunday': 7}\n",
    "\n",
    "# Testing for Wednesday\n",
    "X_new_data = np.array([[3]])\n",
    "X_new_data = X_new_data.reshape(-1, 1)"
   ]
  },
  {
   "cell_type": "code",
   "execution_count": 18,
   "id": "87e4a4d7",
   "metadata": {},
   "outputs": [
    {
     "name": "stdout",
     "output_type": "stream",
     "text": [
      "Linear Regression Predictions - The total value sold will be [645.23802074]\n"
     ]
    }
   ],
   "source": [
    "# Using the Linear Regression model to predict new data\n",
    "y_pred_linear_regression = modelo_regressao.predict(X_new_data)\n",
    "\n",
    "# Printing the predictions\n",
    "print('Linear Regression Predictions - The total value sold will be', y_pred_linear_regression)"
   ]
  },
  {
   "cell_type": "code",
   "execution_count": 19,
   "id": "d60eed16",
   "metadata": {},
   "outputs": [
    {
     "name": "stdout",
     "output_type": "stream",
     "text": [
      "Decision Tree Predictions - The total value sold will be: [681.30434783]\n"
     ]
    }
   ],
   "source": [
    "# Using the Decision Tree model to predict new data\n",
    "y_pred_decision_tree = decision_tree_model.predict(X_new_data)\n",
    "\n",
    "# Printing the predictions\n",
    "print('Decision Tree Predictions - The total value sold will be:', y_pred_decision_tree)"
   ]
  }
 ],
 "metadata": {
  "kernelspec": {
   "display_name": "Python 3",
   "language": "python",
   "name": "python3"
  },
  "language_info": {
   "codemirror_mode": {
    "name": "ipython",
    "version": 3
   },
   "file_extension": ".py",
   "mimetype": "text/x-python",
   "name": "python",
   "nbconvert_exporter": "python",
   "pygments_lexer": "ipython3",
   "version": "3.8.8"
  }
 },
 "nbformat": 4,
 "nbformat_minor": 5
}
